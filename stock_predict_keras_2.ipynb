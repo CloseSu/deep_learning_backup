{
 "cells": [
  {
   "cell_type": "code",
   "execution_count": 54,
   "metadata": {},
   "outputs": [],
   "source": [
    "import pandas as pd\n",
    "import numpy as np\n",
    "import keras\n",
    "from keras.layers import Dense, Dropout, Activation, Input, Permute, multiply, Flatten, GlobalAveragePooling1D\n",
    "from sklearn.preprocessing import StandardScaler\n",
    "from keras import optimizers\n",
    "from keras.layers.recurrent import LSTM\n",
    "from keras.models import Model \n",
    "import matplotlib.pyplot as plt\n",
    "from keras_self_attention import SeqSelfAttention\n",
    "%matplotlib inline"
   ]
  },
  {
   "cell_type": "code",
   "execution_count": 2,
   "metadata": {},
   "outputs": [
    {
     "name": "stdout",
     "output_type": "stream",
     "text": [
      "(5185, 6)\n"
     ]
    },
    {
     "data": {
      "text/html": [
       "<div>\n",
       "<style scoped>\n",
       "    .dataframe tbody tr th:only-of-type {\n",
       "        vertical-align: middle;\n",
       "    }\n",
       "\n",
       "    .dataframe tbody tr th {\n",
       "        vertical-align: top;\n",
       "    }\n",
       "\n",
       "    .dataframe thead th {\n",
       "        text-align: right;\n",
       "    }\n",
       "</style>\n",
       "<table border=\"1\" class=\"dataframe\">\n",
       "  <thead>\n",
       "    <tr style=\"text-align: right;\">\n",
       "      <th></th>\n",
       "      <th>open</th>\n",
       "      <th>high</th>\n",
       "      <th>low</th>\n",
       "      <th>volume</th>\n",
       "      <th>amount</th>\n",
       "      <th>close</th>\n",
       "    </tr>\n",
       "  </thead>\n",
       "  <tbody>\n",
       "    <tr>\n",
       "      <th>0</th>\n",
       "      <td>20.64</td>\n",
       "      <td>20.64</td>\n",
       "      <td>20.37</td>\n",
       "      <td>16362363.0</td>\n",
       "      <td>3.350027e+08</td>\n",
       "      <td>20.56</td>\n",
       "    </tr>\n",
       "    <tr>\n",
       "      <th>1</th>\n",
       "      <td>20.92</td>\n",
       "      <td>20.92</td>\n",
       "      <td>20.60</td>\n",
       "      <td>21850597.0</td>\n",
       "      <td>4.520071e+08</td>\n",
       "      <td>20.64</td>\n",
       "    </tr>\n",
       "    <tr>\n",
       "      <th>2</th>\n",
       "      <td>21.00</td>\n",
       "      <td>21.15</td>\n",
       "      <td>20.72</td>\n",
       "      <td>26910139.0</td>\n",
       "      <td>5.628396e+08</td>\n",
       "      <td>20.94</td>\n",
       "    </tr>\n",
       "    <tr>\n",
       "      <th>3</th>\n",
       "      <td>20.70</td>\n",
       "      <td>21.57</td>\n",
       "      <td>20.70</td>\n",
       "      <td>64585536.0</td>\n",
       "      <td>1.363421e+09</td>\n",
       "      <td>21.02</td>\n",
       "    </tr>\n",
       "    <tr>\n",
       "      <th>4</th>\n",
       "      <td>20.60</td>\n",
       "      <td>20.70</td>\n",
       "      <td>20.20</td>\n",
       "      <td>45886018.0</td>\n",
       "      <td>9.382043e+08</td>\n",
       "      <td>20.70</td>\n",
       "    </tr>\n",
       "  </tbody>\n",
       "</table>\n",
       "</div>"
      ],
      "text/plain": [
       "    open   high    low      volume        amount  close\n",
       "0  20.64  20.64  20.37  16362363.0  3.350027e+08  20.56\n",
       "1  20.92  20.92  20.60  21850597.0  4.520071e+08  20.64\n",
       "2  21.00  21.15  20.72  26910139.0  5.628396e+08  20.94\n",
       "3  20.70  21.57  20.70  64585536.0  1.363421e+09  21.02\n",
       "4  20.60  20.70  20.20  45886018.0  9.382043e+08  20.70"
      ]
     },
     "execution_count": 2,
     "metadata": {},
     "output_type": "execute_result"
    }
   ],
   "source": [
    "df = pd.read_csv(\"000002-from-1995-01-01.csv\")\n",
    "print(df.shape)\n",
    "df.head()"
   ]
  },
  {
   "cell_type": "code",
   "execution_count": 7,
   "metadata": {},
   "outputs": [],
   "source": [
    "df[df.columns] = StandardScaler().fit_transform(df[df.columns].values)"
   ]
  },
  {
   "cell_type": "code",
   "execution_count": 8,
   "metadata": {},
   "outputs": [],
   "source": [
    "def reshape_data(df):\n",
    "    ref_days = 20\n",
    "    predict_day = 1\n",
    "    split_ratio = 0.8\n",
    "    split_index = round(df.shape[0] * split_ratio)\n",
    "    shaped_x = []\n",
    "    shaped_y = []\n",
    "    for i in range(df.shape[0] - ref_days - predict_day):       \n",
    "        shaped_x.append(np.array(df.iloc[i:i+ref_days, :-1]))\n",
    "        shaped_y.append(np.array(df.iloc[i+ref_days:i+ref_days+predict_day,-1]))\n",
    "    \n",
    "    shaped_x = np.array(shaped_x)\n",
    "    shaped_y = np.array(shaped_y)\n",
    "    \n",
    "    x_tain = shaped_x[:split_index]\n",
    "    x_test = shaped_x[split_index:]\n",
    "    y_train = shaped_y[:split_index]\n",
    "    y_test = shaped_y[split_index:]\n",
    "    \n",
    "    return x_tain, x_test, y_train, y_test"
   ]
  },
  {
   "cell_type": "code",
   "execution_count": 9,
   "metadata": {},
   "outputs": [],
   "source": [
    "x_train, x_test, y_train, y_test = reshape_data(df)"
   ]
  },
  {
   "cell_type": "code",
   "execution_count": 10,
   "metadata": {},
   "outputs": [
    {
     "data": {
      "text/plain": [
       "((4148, 20, 5), (1016, 20, 5), (4148, 1), (1016, 1))"
      ]
     },
     "execution_count": 10,
     "metadata": {},
     "output_type": "execute_result"
    }
   ],
   "source": [
    "x_train.shape, x_test.shape, y_train.shape, y_test.shape"
   ]
  },
  {
   "cell_type": "code",
   "execution_count": 11,
   "metadata": {},
   "outputs": [],
   "source": [
    "def attention_block(inputs):   \n",
    "    a = Permute((2,1))(inputs)   \n",
    "    a = Dense(20, activation=\"softmax\")(a)  \n",
    "    a_prob = Permute((2,1))(a)   \n",
    "    return multiply([inputs, a_prob])"
   ]
  },
  {
   "cell_type": "code",
   "execution_count": 55,
   "metadata": {},
   "outputs": [
    {
     "name": "stdout",
     "output_type": "stream",
     "text": [
      "(?, ?, 5)\n",
      "(?, 5)\n"
     ]
    }
   ],
   "source": [
    "inputs = Input(shape=(x_train.shape[1:]))\n",
    "x = LSTM(5, \n",
    "         return_sequences=True\n",
    "        )(inputs)\n",
    "print(x.get_shape())\n",
    "# x = attention_block(x)\n",
    "x = SeqSelfAttention()(x)\n",
    "# x = Flatten()(x)\n",
    "x = GlobalAveragePooling1D()(x)\n",
    "print(x.get_shape())\n",
    "x = Dense(1)(x)\n",
    "model = Model(inputs=inputs, outputs=x)\n",
    "model.compile(loss=\"mse\", \n",
    "              optimizer=optimizers.Adam(lr=1e-4, clipnorm=1.), \n",
    "              metrics=['mse'])"
   ]
  },
  {
   "cell_type": "code",
   "execution_count": 56,
   "metadata": {},
   "outputs": [
    {
     "name": "stdout",
     "output_type": "stream",
     "text": [
      "_________________________________________________________________\n",
      "Layer (type)                 Output Shape              Param #   \n",
      "=================================================================\n",
      "input_17 (InputLayer)        (None, 20, 5)             0         \n",
      "_________________________________________________________________\n",
      "lstm_16 (LSTM)               (None, 20, 5)             220       \n",
      "_________________________________________________________________\n",
      "seq_self_attention_11 (SeqSe (None, 20, 5)             385       \n",
      "_________________________________________________________________\n",
      "global_average_pooling1d_1 ( (None, 5)                 0         \n",
      "_________________________________________________________________\n",
      "dense_12 (Dense)             (None, 1)                 6         \n",
      "=================================================================\n",
      "Total params: 611\n",
      "Trainable params: 611\n",
      "Non-trainable params: 0\n",
      "_________________________________________________________________\n"
     ]
    }
   ],
   "source": [
    "model.summary()"
   ]
  },
  {
   "cell_type": "code",
   "execution_count": 57,
   "metadata": {},
   "outputs": [
    {
     "name": "stdout",
     "output_type": "stream",
     "text": [
      "Train on 4148 samples, validate on 1016 samples\n",
      "Epoch 1/50\n",
      "4148/4148 [==============================] - 6s 1ms/step - loss: 1.6279 - mean_squared_error: 1.6279 - val_loss: 1.5578 - val_mean_squared_error: 1.5578\n",
      "Epoch 2/50\n",
      "4148/4148 [==============================] - 6s 1ms/step - loss: 1.4240 - mean_squared_error: 1.4240 - val_loss: 1.3830 - val_mean_squared_error: 1.3830\n",
      "Epoch 3/50\n",
      "4148/4148 [==============================] - 6s 1ms/step - loss: 1.2383 - mean_squared_error: 1.2383 - val_loss: 1.2106 - val_mean_squared_error: 1.2106\n",
      "Epoch 4/50\n",
      "4148/4148 [==============================] - 6s 1ms/step - loss: 1.0774 - mean_squared_error: 1.0774 - val_loss: 1.0472 - val_mean_squared_error: 1.0472\n",
      "Epoch 5/50\n",
      "4148/4148 [==============================] - 6s 1ms/step - loss: 0.9426 - mean_squared_error: 0.9426 - val_loss: 0.9007 - val_mean_squared_error: 0.9007\n",
      "Epoch 6/50\n",
      "4148/4148 [==============================] - 6s 1ms/step - loss: 0.8304 - mean_squared_error: 0.8304 - val_loss: 0.7717 - val_mean_squared_error: 0.7717\n",
      "Epoch 7/50\n",
      "4148/4148 [==============================] - 6s 1ms/step - loss: 0.7353 - mean_squared_error: 0.7353 - val_loss: 0.6585 - val_mean_squared_error: 0.6585\n",
      "Epoch 8/50\n",
      "4148/4148 [==============================] - 6s 1ms/step - loss: 0.6536 - mean_squared_error: 0.6536 - val_loss: 0.5568 - val_mean_squared_error: 0.5568\n",
      "Epoch 9/50\n",
      "4148/4148 [==============================] - 5s 1ms/step - loss: 0.5825 - mean_squared_error: 0.5825 - val_loss: 0.4677 - val_mean_squared_error: 0.4677\n",
      "Epoch 10/50\n",
      "4148/4148 [==============================] - 6s 1ms/step - loss: 0.5193 - mean_squared_error: 0.5193 - val_loss: 0.3841 - val_mean_squared_error: 0.3841\n",
      "Epoch 11/50\n",
      "4148/4148 [==============================] - 6s 1ms/step - loss: 0.4623 - mean_squared_error: 0.4623 - val_loss: 0.3082 - val_mean_squared_error: 0.3082\n",
      "Epoch 12/50\n",
      "4148/4148 [==============================] - 6s 1ms/step - loss: 0.4116 - mean_squared_error: 0.4116 - val_loss: 0.2378 - val_mean_squared_error: 0.2378\n",
      "Epoch 13/50\n",
      "4148/4148 [==============================] - 6s 1ms/step - loss: 0.3678 - mean_squared_error: 0.3678 - val_loss: 0.1752 - val_mean_squared_error: 0.1752\n",
      "Epoch 14/50\n",
      "4148/4148 [==============================] - 6s 1ms/step - loss: 0.3323 - mean_squared_error: 0.3323 - val_loss: 0.1285 - val_mean_squared_error: 0.1285\n",
      "Epoch 15/50\n",
      "4148/4148 [==============================] - 6s 1ms/step - loss: 0.3063 - mean_squared_error: 0.3063 - val_loss: 0.1006 - val_mean_squared_error: 0.1006\n",
      "Epoch 16/50\n",
      "4148/4148 [==============================] - 6s 1ms/step - loss: 0.2878 - mean_squared_error: 0.2878 - val_loss: 0.0860 - val_mean_squared_error: 0.0860\n",
      "Epoch 17/50\n",
      "4148/4148 [==============================] - 6s 1ms/step - loss: 0.2734 - mean_squared_error: 0.2734 - val_loss: 0.0775 - val_mean_squared_error: 0.0775\n",
      "Epoch 18/50\n",
      "4148/4148 [==============================] - 6s 1ms/step - loss: 0.2609 - mean_squared_error: 0.2609 - val_loss: 0.0720 - val_mean_squared_error: 0.0720\n",
      "Epoch 19/50\n",
      "4148/4148 [==============================] - 6s 1ms/step - loss: 0.2495 - mean_squared_error: 0.2495 - val_loss: 0.0684 - val_mean_squared_error: 0.0684\n",
      "Epoch 20/50\n",
      "4148/4148 [==============================] - 6s 1ms/step - loss: 0.2388 - mean_squared_error: 0.2388 - val_loss: 0.0649 - val_mean_squared_error: 0.0649\n",
      "Epoch 21/50\n",
      "4148/4148 [==============================] - 6s 1ms/step - loss: 0.2287 - mean_squared_error: 0.2287 - val_loss: 0.0622 - val_mean_squared_error: 0.0622\n",
      "Epoch 22/50\n",
      "4148/4148 [==============================] - 6s 1ms/step - loss: 0.2191 - mean_squared_error: 0.2191 - val_loss: 0.0599 - val_mean_squared_error: 0.0599\n",
      "Epoch 23/50\n",
      "4148/4148 [==============================] - 6s 1ms/step - loss: 0.2098 - mean_squared_error: 0.2098 - val_loss: 0.0579 - val_mean_squared_error: 0.0579\n",
      "Epoch 24/50\n",
      "4148/4148 [==============================] - 6s 1ms/step - loss: 0.2009 - mean_squared_error: 0.2009 - val_loss: 0.0560 - val_mean_squared_error: 0.0560\n",
      "Epoch 25/50\n",
      "4148/4148 [==============================] - 6s 1ms/step - loss: 0.1925 - mean_squared_error: 0.1925 - val_loss: 0.0545 - val_mean_squared_error: 0.0545\n",
      "Epoch 26/50\n",
      "4148/4148 [==============================] - 6s 1ms/step - loss: 0.1841 - mean_squared_error: 0.1841 - val_loss: 0.0533 - val_mean_squared_error: 0.0533\n",
      "Epoch 27/50\n",
      "4148/4148 [==============================] - 6s 1ms/step - loss: 0.1755 - mean_squared_error: 0.1755 - val_loss: 0.0528 - val_mean_squared_error: 0.0528\n",
      "Epoch 28/50\n",
      "4148/4148 [==============================] - 6s 1ms/step - loss: 0.1661 - mean_squared_error: 0.1661 - val_loss: 0.0517 - val_mean_squared_error: 0.0517\n",
      "Epoch 29/50\n",
      "4148/4148 [==============================] - 6s 1ms/step - loss: 0.1558 - mean_squared_error: 0.1558 - val_loss: 0.0510 - val_mean_squared_error: 0.0510\n",
      "Epoch 30/50\n",
      "4148/4148 [==============================] - 6s 1ms/step - loss: 0.1447 - mean_squared_error: 0.1447 - val_loss: 0.0509 - val_mean_squared_error: 0.0509\n",
      "Epoch 31/50\n",
      "4148/4148 [==============================] - 6s 1ms/step - loss: 0.1336 - mean_squared_error: 0.1336 - val_loss: 0.0502 - val_mean_squared_error: 0.0502\n",
      "Epoch 32/50\n",
      "4148/4148 [==============================] - 6s 1ms/step - loss: 0.1240 - mean_squared_error: 0.1240 - val_loss: 0.0499 - val_mean_squared_error: 0.0499\n",
      "Epoch 33/50\n",
      "4148/4148 [==============================] - 6s 1ms/step - loss: 0.1157 - mean_squared_error: 0.1157 - val_loss: 0.0488 - val_mean_squared_error: 0.0488\n",
      "Epoch 34/50\n",
      "4148/4148 [==============================] - 6s 1ms/step - loss: 0.1083 - mean_squared_error: 0.1083 - val_loss: 0.0478 - val_mean_squared_error: 0.0478\n",
      "Epoch 35/50\n",
      "4148/4148 [==============================] - 6s 1ms/step - loss: 0.1016 - mean_squared_error: 0.1016 - val_loss: 0.0470 - val_mean_squared_error: 0.0470\n",
      "Epoch 36/50\n",
      "4148/4148 [==============================] - 6s 1ms/step - loss: 0.0956 - mean_squared_error: 0.0956 - val_loss: 0.0461 - val_mean_squared_error: 0.0461\n",
      "Epoch 37/50\n",
      "4148/4148 [==============================] - 6s 1ms/step - loss: 0.0899 - mean_squared_error: 0.0899 - val_loss: 0.0458 - val_mean_squared_error: 0.0458\n",
      "Epoch 38/50\n",
      "4148/4148 [==============================] - 6s 1ms/step - loss: 0.0848 - mean_squared_error: 0.0848 - val_loss: 0.0449 - val_mean_squared_error: 0.0449\n",
      "Epoch 39/50\n",
      "4148/4148 [==============================] - 6s 1ms/step - loss: 0.0800 - mean_squared_error: 0.0800 - val_loss: 0.0438 - val_mean_squared_error: 0.0438\n",
      "Epoch 40/50\n",
      "4148/4148 [==============================] - 6s 1ms/step - loss: 0.0756 - mean_squared_error: 0.0756 - val_loss: 0.0429 - val_mean_squared_error: 0.0429\n",
      "Epoch 41/50\n",
      "4148/4148 [==============================] - 6s 1ms/step - loss: 0.0714 - mean_squared_error: 0.0714 - val_loss: 0.0429 - val_mean_squared_error: 0.0429\n",
      "Epoch 42/50\n",
      "4148/4148 [==============================] - 6s 1ms/step - loss: 0.0677 - mean_squared_error: 0.0677 - val_loss: 0.0424 - val_mean_squared_error: 0.0424\n",
      "Epoch 43/50\n",
      "4148/4148 [==============================] - 6s 1ms/step - loss: 0.0642 - mean_squared_error: 0.0642 - val_loss: 0.0415 - val_mean_squared_error: 0.0415\n",
      "Epoch 44/50\n",
      "4148/4148 [==============================] - 6s 1ms/step - loss: 0.0609 - mean_squared_error: 0.0609 - val_loss: 0.0405 - val_mean_squared_error: 0.0405\n",
      "Epoch 45/50\n",
      "4148/4148 [==============================] - 5s 1ms/step - loss: 0.0578 - mean_squared_error: 0.0578 - val_loss: 0.0396 - val_mean_squared_error: 0.0396\n",
      "Epoch 46/50\n",
      "4148/4148 [==============================] - 6s 1ms/step - loss: 0.0550 - mean_squared_error: 0.0550 - val_loss: 0.0390 - val_mean_squared_error: 0.0390\n",
      "Epoch 47/50\n",
      "4148/4148 [==============================] - 6s 1ms/step - loss: 0.0523 - mean_squared_error: 0.0523 - val_loss: 0.0386 - val_mean_squared_error: 0.0386\n",
      "Epoch 48/50\n",
      "4148/4148 [==============================] - 6s 1ms/step - loss: 0.0499 - mean_squared_error: 0.0499 - val_loss: 0.0377 - val_mean_squared_error: 0.0377\n",
      "Epoch 49/50\n",
      "4148/4148 [==============================] - 6s 1ms/step - loss: 0.0475 - mean_squared_error: 0.0475 - val_loss: 0.0372 - val_mean_squared_error: 0.0372\n",
      "Epoch 50/50\n",
      "4148/4148 [==============================] - 6s 1ms/step - loss: 0.0453 - mean_squared_error: 0.0453 - val_loss: 0.0360 - val_mean_squared_error: 0.0360\n"
     ]
    }
   ],
   "source": [
    "model_history = model.fit(x_train, y_train,\n",
    "                          batch_size=32,\n",
    "                          epochs=50,\n",
    "                          verbose=1,\n",
    "                          validation_data=(x_test, y_test))"
   ]
  },
  {
   "cell_type": "code",
   "execution_count": 19,
   "metadata": {},
   "outputs": [
    {
     "name": "stdout",
     "output_type": "stream",
     "text": [
      "1016/1016 [==============================] - 0s 356us/step\n",
      "Test loss: 0.0246071887292\n"
     ]
    }
   ],
   "source": [
    "scores = model.evaluate(x_test, y_test, verbose=1)\n",
    "print('Test loss:', scores[0])"
   ]
  },
  {
   "cell_type": "code",
   "execution_count": 19,
   "metadata": {},
   "outputs": [
    {
     "data": {
      "image/png": "[encoded data removed]",
      "text/plain": [
       "<Figure size 432x288 with 1 Axes>"
      ]
     },
     "metadata": {},
     "output_type": "display_data"
    }
   ],
   "source": [
    "training_loss = model_history.history['loss']\n",
    "val_loss = model_history.history['val_loss']\n",
    "\n",
    "plt.plot(training_loss, label=\"training_loss\")\n",
    "plt.plot(val_loss, label=\"validation_loss\")\n",
    "plt.xlabel(\"Epochs\")\n",
    "plt.ylabel(\"Loss\")\n",
    "plt.title(\"Learning Curve\")\n",
    "plt.legend(loc='best')\n",
    "plt.show()"
   ]
  },
  {
   "cell_type": "code",
   "execution_count": 21,
   "metadata": {},
   "outputs": [],
   "source": [
    "# pred_raw = model.predict(x_test)"
   ]
  },
  {
   "cell_type": "code",
   "execution_count": 28,
   "metadata": {},
   "outputs": [],
   "source": [
    "# pred_attention1 = model.predict(x_test)"
   ]
  },
  {
   "cell_type": "code",
   "execution_count": 52,
   "metadata": {},
   "outputs": [],
   "source": [
    "# pred_attention2 = model.predict(x_test)"
   ]
  },
  {
   "cell_type": "code",
   "execution_count": 58,
   "metadata": {},
   "outputs": [],
   "source": [
    "pred_attention_gl = model.predict(x_test)"
   ]
  },
  {
   "cell_type": "code",
   "execution_count": 60,
   "metadata": {},
   "outputs": [
    {
     "data": {
      "image/png": "[encoded data removed]",
      "text/plain": [
       "<Figure size 432x288 with 1 Axes>"
      ]
     },
     "metadata": {},
     "output_type": "display_data"
    }
   ],
   "source": [
    "plt.plot(y_test, color='black', label='Ground Truth')\n",
    "# plt.plot(pred_raw, color='blue', label='Prediction')\n",
    "# plt.plot(pred_attention1, color='red', label='Prediction-att1')\n",
    "plt.plot(pred_attention2, color='green', label='Prediction-att1')\n",
    "plt.plot(pred_attention_gl, color='yellow', label='Prediction-att1')\n",
    "plt.legend(loc='upper left')\n",
    "plt.show()"
   ]
  },
  {
   "cell_type": "code",
   "execution_count": null,
   "metadata": {},
   "outputs": [],
   "source": []
  }
 ],
 "metadata": {
  "kernelspec": {
   "display_name": "Python 3",
   "language": "python",
   "name": "python3"
  },
  "language_info": {
   "codemirror_mode": {
    "name": "ipython",
    "version": 3
   },
   "file_extension": ".py",
   "mimetype": "text/x-python",
   "name": "python",
   "nbconvert_exporter": "python",
   "pygments_lexer": "ipython3",
   "version": "3.6.4"
  }
 },
 "nbformat": 4,
 "nbformat_minor": 2
}
