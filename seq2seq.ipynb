{
 "cells": [
  {
   "cell_type": "code",
   "execution_count": 25,
   "metadata": {},
   "outputs": [],
   "source": [
    "from keras.models import Model\n",
    "from keras.layers import Input, LSTM, Dense\n",
    "import numpy as np"
   ]
  },
  {
   "cell_type": "code",
   "execution_count": 26,
   "metadata": {},
   "outputs": [],
   "source": [
    "batch_size = 64  # Batch size for training.\n",
    "epochs = 100  # Number of epochs to train for.\n",
    "latent_dim = 256  # Latent dimensionality of the encoding space.\n",
    "num_samples = 10000  # Number of samples to train on.\n",
    "data_path = 'cmn.txt'"
   ]
  },
  {
   "cell_type": "code",
   "execution_count": 27,
   "metadata": {},
   "outputs": [],
   "source": [
    "input_texts = []\n",
    "target_texts = []\n",
    "input_characters = set()\n",
    "target_characters = set()\n",
    "lines = open(data_path, encoding ='utf8').read().split('\\n')\n",
    "for line in lines[: min(num_samples, len(lines) - 1)]:\n",
    "    input_text, target_text = line.split('\\t')\n",
    "    # We use \"tab\" as the \"start sequence\" character\n",
    "    # for the targets, and \"\\n\" as \"end sequence\" character.\n",
    "    target_text = '\\t' + target_text + '\\n'\n",
    "    input_texts.append(input_text)\n",
    "    target_texts.append(target_text)\n",
    "    for char in input_text:\n",
    "        if char not in input_characters:\n",
    "            input_characters.add(char)\n",
    "    for char in target_text:\n",
    "        if char not in target_characters:\n",
    "            target_characters.add(char)"
   ]
  },
  {
   "cell_type": "code",
   "execution_count": 28,
   "metadata": {},
   "outputs": [],
   "source": [
    "input_characters = sorted(list(input_characters))\n",
    "target_characters = sorted(list(target_characters))\n",
    "num_encoder_tokens = len(input_characters)\n",
    "num_decoder_tokens = len(target_characters)\n",
    "max_encoder_seq_length = max([len(txt) for txt in input_texts])\n",
    "max_decoder_seq_length = max([len(txt) for txt in target_texts])"
   ]
  },
  {
   "cell_type": "code",
   "execution_count": 29,
   "metadata": {},
   "outputs": [
    {
     "name": "stdout",
     "output_type": "stream",
     "text": [
      "Number of samples: 10000\n",
      "Number of unique input tokens: 73\n",
      "Number of unique output tokens: 2623\n",
      "Max sequence length for inputs: 30\n",
      "Max sequence length for outputs: 22\n"
     ]
    }
   ],
   "source": [
    "print('Number of samples:', len(input_texts))\n",
    "print('Number of unique input tokens:', num_encoder_tokens)\n",
    "print('Number of unique output tokens:', num_decoder_tokens)\n",
    "print('Max sequence length for inputs:', max_encoder_seq_length)\n",
    "print('Max sequence length for outputs:', max_decoder_seq_length)"
   ]
  },
  {
   "cell_type": "code",
   "execution_count": 30,
   "metadata": {},
   "outputs": [],
   "source": [
    "input_token_index = dict(\n",
    "    [(char, i) for i, char in enumerate(input_characters)])\n",
    "target_token_index = dict(\n",
    "    [(char, i) for i, char in enumerate(target_characters)])"
   ]
  },
  {
   "cell_type": "code",
   "execution_count": 31,
   "metadata": {},
   "outputs": [],
   "source": [
    "encoder_input_data = np.zeros(\n",
    "    (len(input_texts), max_encoder_seq_length, num_encoder_tokens),\n",
    "    dtype='float32')\n",
    "decoder_input_data = np.zeros(\n",
    "    (len(input_texts), max_decoder_seq_length, num_decoder_tokens),\n",
    "    dtype='float32')\n",
    "decoder_target_data = np.zeros(\n",
    "    (len(input_texts), max_decoder_seq_length, num_decoder_tokens),\n",
    "    dtype='float32')"
   ]
  },
  {
   "cell_type": "code",
   "execution_count": 32,
   "metadata": {},
   "outputs": [
    {
     "name": "stdout",
     "output_type": "stream",
     "text": [
      "encoder_input_data shape (10000, 30, 73)\n",
      "decoder_input_data shape (10000, 22, 2623)\n",
      "decoder_target_data shape  (10000, 22, 2623)\n"
     ]
    }
   ],
   "source": [
    "print('encoder_input_data shape', encoder_input_data.shape)\n",
    "print('decoder_input_data shape', decoder_input_data.shape)\n",
    "print('decoder_target_data shape ', decoder_target_data.shape)"
   ]
  },
  {
   "cell_type": "code",
   "execution_count": 33,
   "metadata": {},
   "outputs": [],
   "source": [
    "for i, (input_text, target_text) in enumerate(zip(input_texts, target_texts)):\n",
    "    for t, char in enumerate(input_text):        \n",
    "        encoder_input_data[i, t, input_token_index[char]] = 1.\n",
    "    for t, char in enumerate(target_text):\n",
    "        # decoder_target_data is ahead of decoder_input_data by one timestep\n",
    "        decoder_input_data[i, t, target_token_index[char]] = 1.\n",
    "        if t > 0:\n",
    "            # decoder_target_data will be ahead by one timestep\n",
    "            # and will not include the start character.\n",
    "            decoder_target_data[i, t - 1, target_token_index[char]] = 1."
   ]
  },
  {
   "cell_type": "code",
   "execution_count": 34,
   "metadata": {},
   "outputs": [],
   "source": [
    "# 建立 encoder LSTM 隱藏層\n",
    "encoder_inputs = Input(shape=(None, num_encoder_tokens))\n",
    "encoder = LSTM(latent_dim, return_state=True)\n",
    "encoder_outputs, state_h, state_c = encoder(encoder_inputs)\n",
    "# 捨棄 output，只保留記憶狀態 h 及 c\n",
    "encoder_states = [state_h, state_c]"
   ]
  },
  {
   "cell_type": "code",
   "execution_count": 35,
   "metadata": {},
   "outputs": [],
   "source": [
    "# 建立 decoder LSTM 隱藏層\n",
    "decoder_inputs = Input(shape=(None, num_decoder_tokens))\n",
    "# We set up our decoder to return full output sequences,\n",
    "# decoder 記憶狀態不會在訓練過程使用，只會在推論(Inference)使用\n",
    "decoder_lstm = LSTM(latent_dim, return_sequences=True, return_state=True)\n",
    "decoder_outputs, _, _ = decoder_lstm(decoder_inputs,\n",
    "                                     initial_state=encoder_states)\n",
    "decoder_dense = Dense(num_decoder_tokens, activation='softmax')\n",
    "decoder_outputs = decoder_dense(decoder_outputs)"
   ]
  },
  {
   "cell_type": "code",
   "execution_count": 36,
   "metadata": {},
   "outputs": [],
   "source": [
    "model = Model([encoder_inputs, decoder_inputs], decoder_outputs)"
   ]
  },
  {
   "cell_type": "code",
   "execution_count": 37,
   "metadata": {},
   "outputs": [
    {
     "name": "stdout",
     "output_type": "stream",
     "text": [
      "Train on 8000 samples, validate on 2000 samples\n",
      "Epoch 1/100\n",
      "8000/8000 [==============================] - 13s 2ms/step - loss: 2.0301 - val_loss: 2.4903\n",
      "Epoch 2/100\n",
      "8000/8000 [==============================] - 12s 1ms/step - loss: 1.9066 - val_loss: 2.4339\n",
      "Epoch 3/100\n",
      "8000/8000 [==============================] - 11s 1ms/step - loss: 1.8051 - val_loss: 2.3132\n",
      "Epoch 4/100\n",
      "8000/8000 [==============================] - 11s 1ms/step - loss: 1.7161 - val_loss: 2.2470\n",
      "Epoch 5/100\n",
      "8000/8000 [==============================] - 12s 1ms/step - loss: 1.6342 - val_loss: 2.1687\n",
      "Epoch 6/100\n",
      "8000/8000 [==============================] - 11s 1ms/step - loss: 1.5612 - val_loss: 2.1023\n",
      "Epoch 7/100\n",
      "8000/8000 [==============================] - 12s 1ms/step - loss: 1.4936 - val_loss: 2.0408\n",
      "Epoch 8/100\n",
      "8000/8000 [==============================] - 11s 1ms/step - loss: 1.4285 - val_loss: 1.9952\n",
      "Epoch 9/100\n",
      "8000/8000 [==============================] - 11s 1ms/step - loss: 1.3741 - val_loss: 1.9446\n",
      "Epoch 10/100\n",
      "8000/8000 [==============================] - 11s 1ms/step - loss: 1.3252 - val_loss: 1.9308\n",
      "Epoch 11/100\n",
      "8000/8000 [==============================] - 11s 1ms/step - loss: 1.2802 - val_loss: 1.8926\n",
      "Epoch 12/100\n",
      "8000/8000 [==============================] - 11s 1ms/step - loss: 1.2408 - val_loss: 1.8649\n",
      "Epoch 13/100\n",
      "8000/8000 [==============================] - 11s 1ms/step - loss: 1.2034 - val_loss: 1.8526\n",
      "Epoch 14/100\n",
      "8000/8000 [==============================] - 11s 1ms/step - loss: 1.1686 - val_loss: 1.8422\n",
      "Epoch 15/100\n",
      "8000/8000 [==============================] - 11s 1ms/step - loss: 1.1348 - val_loss: 1.8228\n",
      "Epoch 16/100\n",
      "8000/8000 [==============================] - 11s 1ms/step - loss: 1.1035 - val_loss: 1.8145\n",
      "Epoch 17/100\n",
      "8000/8000 [==============================] - 11s 1ms/step - loss: 1.0736 - val_loss: 1.8047\n",
      "Epoch 18/100\n",
      "8000/8000 [==============================] - 12s 1ms/step - loss: 1.0451 - val_loss: 1.8070\n",
      "Epoch 19/100\n",
      "8000/8000 [==============================] - 11s 1ms/step - loss: 1.0168 - val_loss: 1.7909\n",
      "Epoch 20/100\n",
      "8000/8000 [==============================] - 12s 1ms/step - loss: 0.9900 - val_loss: 1.8075\n",
      "Epoch 21/100\n",
      "8000/8000 [==============================] - 12s 1ms/step - loss: 0.9642 - val_loss: 1.7945\n",
      "Epoch 22/100\n",
      "8000/8000 [==============================] - 11s 1ms/step - loss: 0.9395 - val_loss: 1.7835\n",
      "Epoch 23/100\n",
      "8000/8000 [==============================] - 12s 1ms/step - loss: 0.9142 - val_loss: 1.7918\n",
      "Epoch 24/100\n",
      "8000/8000 [==============================] - 11s 1ms/step - loss: 0.8915 - val_loss: 1.7852\n",
      "Epoch 25/100\n",
      "8000/8000 [==============================] - 11s 1ms/step - loss: 0.8676 - val_loss: 1.7891\n",
      "Epoch 26/100\n",
      "8000/8000 [==============================] - 11s 1ms/step - loss: 0.8453 - val_loss: 1.7840\n",
      "Epoch 27/100\n",
      "8000/8000 [==============================] - 11s 1ms/step - loss: 0.8233 - val_loss: 1.7887\n",
      "Epoch 28/100\n",
      "8000/8000 [==============================] - 11s 1ms/step - loss: 0.8019 - val_loss: 1.7951\n",
      "Epoch 29/100\n",
      "8000/8000 [==============================] - 11s 1ms/step - loss: 0.7818 - val_loss: 1.7928\n",
      "Epoch 30/100\n",
      "8000/8000 [==============================] - 11s 1ms/step - loss: 0.7609 - val_loss: 1.8053\n",
      "Epoch 31/100\n",
      "8000/8000 [==============================] - 11s 1ms/step - loss: 0.7410 - val_loss: 1.8107\n",
      "Epoch 32/100\n",
      "8000/8000 [==============================] - 11s 1ms/step - loss: 0.7217 - val_loss: 1.8177\n",
      "Epoch 33/100\n",
      "8000/8000 [==============================] - 12s 1ms/step - loss: 0.7030 - val_loss: 1.8121\n",
      "Epoch 34/100\n",
      "8000/8000 [==============================] - 11s 1ms/step - loss: 0.6848 - val_loss: 1.8199\n",
      "Epoch 35/100\n",
      "8000/8000 [==============================] - 11s 1ms/step - loss: 0.6672 - val_loss: 1.8220\n",
      "Epoch 36/100\n",
      "8000/8000 [==============================] - 11s 1ms/step - loss: 0.6495 - val_loss: 1.8333\n",
      "Epoch 37/100\n",
      "8000/8000 [==============================] - 11s 1ms/step - loss: 0.6329 - val_loss: 1.8435\n",
      "Epoch 38/100\n",
      "8000/8000 [==============================] - 11s 1ms/step - loss: 0.6165 - val_loss: 1.8478\n",
      "Epoch 39/100\n",
      "8000/8000 [==============================] - 11s 1ms/step - loss: 0.5999 - val_loss: 1.8406\n",
      "Epoch 40/100\n",
      "8000/8000 [==============================] - 12s 1ms/step - loss: 0.5835 - val_loss: 1.8554\n",
      "Epoch 41/100\n",
      "8000/8000 [==============================] - 12s 1ms/step - loss: 0.5680 - val_loss: 1.8575\n",
      "Epoch 42/100\n",
      "8000/8000 [==============================] - 11s 1ms/step - loss: 0.5524 - val_loss: 1.8642\n",
      "Epoch 43/100\n",
      "8000/8000 [==============================] - 12s 1ms/step - loss: 0.5380 - val_loss: 1.8682\n",
      "Epoch 44/100\n",
      "8000/8000 [==============================] - 11s 1ms/step - loss: 0.5238 - val_loss: 1.8781\n",
      "Epoch 45/100\n",
      "8000/8000 [==============================] - 11s 1ms/step - loss: 0.5104 - val_loss: 1.8946\n",
      "Epoch 46/100\n",
      "8000/8000 [==============================] - 11s 1ms/step - loss: 0.4975 - val_loss: 1.8901\n",
      "Epoch 47/100\n",
      "8000/8000 [==============================] - 12s 1ms/step - loss: 0.4834 - val_loss: 1.9017\n",
      "Epoch 48/100\n",
      "8000/8000 [==============================] - 11s 1ms/step - loss: 0.4713 - val_loss: 1.9073\n",
      "Epoch 49/100\n",
      "8000/8000 [==============================] - 11s 1ms/step - loss: 0.4590 - val_loss: 1.9185\n",
      "Epoch 50/100\n",
      "8000/8000 [==============================] - 12s 1ms/step - loss: 0.4461 - val_loss: 1.9220\n",
      "Epoch 51/100\n",
      "8000/8000 [==============================] - 11s 1ms/step - loss: 0.4351 - val_loss: 1.9227\n",
      "Epoch 52/100\n",
      "8000/8000 [==============================] - 11s 1ms/step - loss: 0.4240 - val_loss: 1.9350\n",
      "Epoch 53/100\n",
      "8000/8000 [==============================] - 12s 1ms/step - loss: 0.4121 - val_loss: 1.9481\n",
      "Epoch 54/100\n",
      "8000/8000 [==============================] - 12s 1ms/step - loss: 0.4012 - val_loss: 1.9397\n",
      "Epoch 55/100\n",
      "8000/8000 [==============================] - 12s 1ms/step - loss: 0.3909 - val_loss: 1.9541\n",
      "Epoch 56/100\n",
      "8000/8000 [==============================] - 12s 1ms/step - loss: 0.3802 - val_loss: 1.9613\n",
      "Epoch 57/100\n",
      "8000/8000 [==============================] - 12s 1ms/step - loss: 0.3705 - val_loss: 1.9770\n",
      "Epoch 58/100\n",
      "8000/8000 [==============================] - 11s 1ms/step - loss: 0.3599 - val_loss: 1.9783\n",
      "Epoch 59/100\n",
      "8000/8000 [==============================] - 12s 1ms/step - loss: 0.3507 - val_loss: 1.9884\n",
      "Epoch 60/100\n",
      "8000/8000 [==============================] - 12s 1ms/step - loss: 0.3419 - val_loss: 1.9887\n",
      "Epoch 61/100\n",
      "8000/8000 [==============================] - 11s 1ms/step - loss: 0.3329 - val_loss: 2.0010\n",
      "Epoch 62/100\n",
      "8000/8000 [==============================] - 12s 1ms/step - loss: 0.3243 - val_loss: 2.0052\n",
      "Epoch 63/100\n",
      "8000/8000 [==============================] - 12s 1ms/step - loss: 0.3157 - val_loss: 2.0169\n",
      "Epoch 64/100\n",
      "8000/8000 [==============================] - 11s 1ms/step - loss: 0.3072 - val_loss: 2.0303\n",
      "Epoch 65/100\n",
      "8000/8000 [==============================] - 11s 1ms/step - loss: 0.2991 - val_loss: 2.0370\n",
      "Epoch 66/100\n",
      "8000/8000 [==============================] - 11s 1ms/step - loss: 0.2906 - val_loss: 2.0373\n",
      "Epoch 67/100\n",
      "8000/8000 [==============================] - 11s 1ms/step - loss: 0.2829 - val_loss: 2.0335\n",
      "Epoch 68/100\n",
      "8000/8000 [==============================] - 12s 1ms/step - loss: 0.2750 - val_loss: 2.0587\n",
      "Epoch 69/100\n",
      "8000/8000 [==============================] - 12s 1ms/step - loss: 0.2687 - val_loss: 2.0681\n",
      "Epoch 70/100\n",
      "8000/8000 [==============================] - 12s 1ms/step - loss: 0.2614 - val_loss: 2.0632\n",
      "Epoch 71/100\n",
      "8000/8000 [==============================] - 12s 1ms/step - loss: 0.2537 - val_loss: 2.0821\n",
      "Epoch 72/100\n",
      "8000/8000 [==============================] - 11s 1ms/step - loss: 0.2464 - val_loss: 2.0888\n",
      "Epoch 73/100\n",
      "8000/8000 [==============================] - 11s 1ms/step - loss: 0.2409 - val_loss: 2.0941\n",
      "Epoch 74/100\n",
      "8000/8000 [==============================] - 11s 1ms/step - loss: 0.2339 - val_loss: 2.1035\n",
      "Epoch 75/100\n",
      "8000/8000 [==============================] - 11s 1ms/step - loss: 0.2270 - val_loss: 2.0977\n",
      "Epoch 76/100\n",
      "8000/8000 [==============================] - 11s 1ms/step - loss: 0.2213 - val_loss: 2.1050\n",
      "Epoch 77/100\n",
      "8000/8000 [==============================] - 12s 1ms/step - loss: 0.2152 - val_loss: 2.1124\n",
      "Epoch 78/100\n",
      "8000/8000 [==============================] - 12s 1ms/step - loss: 0.2092 - val_loss: 2.1267\n",
      "Epoch 79/100\n",
      "8000/8000 [==============================] - 12s 1ms/step - loss: 0.2039 - val_loss: 2.1347\n",
      "Epoch 80/100\n",
      "8000/8000 [==============================] - 11s 1ms/step - loss: 0.1976 - val_loss: 2.1435\n",
      "Epoch 81/100\n",
      "8000/8000 [==============================] - 12s 1ms/step - loss: 0.1926 - val_loss: 2.1555\n",
      "Epoch 82/100\n",
      "8000/8000 [==============================] - 12s 1ms/step - loss: 0.1872 - val_loss: 2.1564\n",
      "Epoch 83/100\n",
      "8000/8000 [==============================] - 11s 1ms/step - loss: 0.1817 - val_loss: 2.1571\n",
      "Epoch 84/100\n",
      "8000/8000 [==============================] - 12s 1ms/step - loss: 0.1779 - val_loss: 2.1751\n",
      "Epoch 85/100\n",
      "8000/8000 [==============================] - 12s 1ms/step - loss: 0.1722 - val_loss: 2.1731\n",
      "Epoch 86/100\n",
      "8000/8000 [==============================] - 12s 1ms/step - loss: 0.1669 - val_loss: 2.1848\n",
      "Epoch 87/100\n",
      "8000/8000 [==============================] - 11s 1ms/step - loss: 0.1623 - val_loss: 2.1899\n",
      "Epoch 88/100\n",
      "8000/8000 [==============================] - 11s 1ms/step - loss: 0.1573 - val_loss: 2.2060\n",
      "Epoch 89/100\n",
      "8000/8000 [==============================] - 12s 1ms/step - loss: 0.1529 - val_loss: 2.2059\n",
      "Epoch 90/100\n",
      "8000/8000 [==============================] - 11s 1ms/step - loss: 0.1483 - val_loss: 2.2028\n",
      "Epoch 91/100\n",
      "8000/8000 [==============================] - 12s 1ms/step - loss: 0.1444 - val_loss: 2.2158\n",
      "Epoch 92/100\n",
      "8000/8000 [==============================] - 12s 1ms/step - loss: 0.1404 - val_loss: 2.2216\n",
      "Epoch 93/100\n",
      "8000/8000 [==============================] - 11s 1ms/step - loss: 0.1363 - val_loss: 2.2308\n",
      "Epoch 94/100\n",
      "8000/8000 [==============================] - 12s 1ms/step - loss: 0.1316 - val_loss: 2.2307\n",
      "Epoch 95/100\n",
      "8000/8000 [==============================] - 12s 1ms/step - loss: 0.1278 - val_loss: 2.2417\n",
      "Epoch 96/100\n",
      "8000/8000 [==============================] - 11s 1ms/step - loss: 0.1236 - val_loss: 2.2573\n",
      "Epoch 97/100\n",
      "8000/8000 [==============================] - 11s 1ms/step - loss: 0.1203 - val_loss: 2.2595\n",
      "Epoch 98/100\n",
      "8000/8000 [==============================] - 12s 1ms/step - loss: 0.1161 - val_loss: 2.2573\n",
      "Epoch 99/100\n",
      "8000/8000 [==============================] - 12s 1ms/step - loss: 0.1129 - val_loss: 2.2668\n",
      "Epoch 100/100\n",
      "8000/8000 [==============================] - 12s 1ms/step - loss: 0.1095 - val_loss: 2.2724\n"
     ]
    },
    {
     "data": {
      "text/plain": [
       "<keras.callbacks.History at 0x7f482419fe80>"
      ]
     },
     "execution_count": 37,
     "metadata": {},
     "output_type": "execute_result"
    }
   ],
   "source": [
    "model.compile(optimizer='rmsprop', loss='categorical_crossentropy')\n",
    "model.fit([encoder_input_data, decoder_input_data], decoder_target_data,\n",
    "          batch_size=batch_size,\n",
    "          epochs=epochs,\n",
    "          validation_split=0.2)"
   ]
  },
  {
   "cell_type": "code",
   "execution_count": 44,
   "metadata": {},
   "outputs": [
    {
     "name": "stderr",
     "output_type": "stream",
     "text": [
      "/opt/conda/lib/python3.6/site-packages/keras/engine/topology.py:2361: UserWarning: Layer lstm_4 was passed non-serializable keyword arguments: {'initial_state': [<tf.Tensor 'lstm_3/while/Exit_2:0' shape=(?, 256) dtype=float32>, <tf.Tensor 'lstm_3/while/Exit_3:0' shape=(?, 256) dtype=float32>]}. They will not be included in the serialized model (and thus will be missing at deserialization time).\n",
      "  str(node.arguments) + '. They will not be included '\n"
     ]
    }
   ],
   "source": [
    "model.save('s2s.h5')"
   ]
  },
  {
   "cell_type": "code",
   "execution_count": 45,
   "metadata": {},
   "outputs": [],
   "source": [
    "# inference\n",
    "encoder_model = Model(encoder_inputs, encoder_states)\n",
    "decoder_state_input_h = Input(shape=(latent_dim,))\n",
    "decoder_state_input_c = Input(shape=(latent_dim,))\n",
    "decoder_states_inputs = [decoder_state_input_h, decoder_state_input_c]"
   ]
  },
  {
   "cell_type": "code",
   "execution_count": 46,
   "metadata": {},
   "outputs": [],
   "source": [
    "decoder_outputs, state_h, state_c = decoder_lstm(decoder_inputs, initial_state=decoder_states_inputs)"
   ]
  },
  {
   "cell_type": "code",
   "execution_count": 47,
   "metadata": {},
   "outputs": [],
   "source": [
    "decoder_states = [state_h, state_c]\n",
    "decoder_outputs = decoder_dense(decoder_outputs)\n",
    "decoder_model = Model([decoder_inputs] + decoder_states_inputs,[decoder_outputs] + decoder_states)"
   ]
  },
  {
   "cell_type": "code",
   "execution_count": 48,
   "metadata": {},
   "outputs": [],
   "source": [
    "reverse_input_char_index = dict((i, char) for char, i in input_token_index.items())\n",
    "reverse_target_char_index = dict((i, char) for char, i in target_token_index.items())"
   ]
  },
  {
   "cell_type": "code",
   "execution_count": 59,
   "metadata": {},
   "outputs": [],
   "source": [
    "def decode_sequence(input_seq):\n",
    "    # Encode the input as state vectors.\n",
    "    states_value = encoder_model.predict(input_seq)\n",
    "\n",
    "    # Generate empty target sequence of length 1.\n",
    "    target_seq = np.zeros((1, 1, num_decoder_tokens))\n",
    "    # Populate the first character of target sequence with the start character.\n",
    "    target_seq[0, 0, target_token_index['\\t']] = 1.\n",
    "\n",
    "    # Sampling loop for a batch of sequences\n",
    "    # (to simplify, here we assume a batch of size 1).\n",
    "    stop_condition = False\n",
    "    decoded_sentence = ''\n",
    "    while not stop_condition:\n",
    "        output_tokens, h, c = decoder_model.predict(\n",
    "            [target_seq] + states_value)\n",
    "       \n",
    "        # Sample a token\n",
    "        sampled_token_index = np.argmax(output_tokens[0, -1, :])\n",
    "        sampled_char = reverse_target_char_index[sampled_token_index]\n",
    "        decoded_sentence += sampled_char\n",
    "\n",
    "        # Exit condition: either hit max length\n",
    "        # or find stop character.\n",
    "        if (sampled_char == '\\n' or\n",
    "           len(decoded_sentence) > max_decoder_seq_length):\n",
    "            stop_condition = True\n",
    "\n",
    "        # Update the target sequence (of length 1).\n",
    "        target_seq = np.zeros((1, 1, num_decoder_tokens))\n",
    "        target_seq[0, 0, sampled_token_index] = 1.\n",
    "\n",
    "        # Update states\n",
    "        states_value = [h, c]\n",
    "#     print(\"output_tokens\", output_tokens)\n",
    "#     print(\"h\", h)\n",
    "#     print(\"c\", c)\n",
    "    return decoded_sentence"
   ]
  },
  {
   "cell_type": "code",
   "execution_count": 106,
   "metadata": {},
   "outputs": [],
   "source": [
    "def translate(word):\n",
    "    inputs =  encoder_input_data[input_texts.index(word): input_texts.index(word) + 1]\n",
    "    decoded_sentence = decode_sequence(inputs)\n",
    "    print('result :', decoded_sentence)"
   ]
  },
  {
   "cell_type": "code",
   "execution_count": 108,
   "metadata": {},
   "outputs": [
    {
     "name": "stdout",
     "output_type": "stream",
     "text": [
      "Input sentence: 等等！\n",
      "\n"
     ]
    }
   ],
   "source": [
    "translate(\"Wait!\")"
   ]
  },
  {
   "cell_type": "code",
   "execution_count": 100,
   "metadata": {},
   "outputs": [
    {
     "name": "stdout",
     "output_type": "stream",
     "text": [
      "* (1, 30, 73) 0\n",
      "Input sentence: Hi.\n",
      "Decoded sentence: 你好。\n",
      "\n",
      "* (1, 30, 73) 1\n",
      "Input sentence: Hi.\n",
      "Decoded sentence: 你好。\n",
      "\n",
      "* (1, 30, 73) 2\n",
      "Input sentence: Run.\n",
      "Decoded sentence: 你用跑的。\n",
      "\n",
      "* (1, 30, 73) 3\n",
      "Input sentence: Wait!\n",
      "Decoded sentence: 等等！\n",
      "\n",
      "* (1, 30, 73) 4\n",
      "Input sentence: Hello!\n",
      "Decoded sentence: 你好。\n",
      "\n"
     ]
    }
   ],
   "source": [
    "for seq_index in range(5):\n",
    "    # Take one sequence (part of the training test)\n",
    "    # for trying out decoding.\n",
    "    input_seq = encoder_input_data[seq_index: seq_index + 1]\n",
    "    decoded_sentence = decode_sequence(input_seq)\n",
    "    print('*', input_seq.shape, seq_index)\n",
    "    print('Input sentence:', input_texts[seq_index])\n",
    "    try:\n",
    "        print('Decoded sentence:', decoded_sentence)\n",
    "    except:\n",
    "        # 出現亂碼，以?取代\n",
    "        print('Decoded sentence:', decoded_sentence.encode('ascii', 'replace'))\n",
    "        #print(\"error:\", sys.exc_info()[0])"
   ]
  },
  {
   "cell_type": "code",
   "execution_count": null,
   "metadata": {},
   "outputs": [],
   "source": []
  }
 ],
 "metadata": {
  "kernelspec": {
   "display_name": "Python 3",
   "language": "python",
   "name": "python3"
  },
  "language_info": {
   "codemirror_mode": {
    "name": "ipython",
    "version": 3
   },
   "file_extension": ".py",
   "mimetype": "text/x-python",
   "name": "python",
   "nbconvert_exporter": "python",
   "pygments_lexer": "ipython3",
   "version": "3.6.4"
  }
 },
 "nbformat": 4,
 "nbformat_minor": 2
}
